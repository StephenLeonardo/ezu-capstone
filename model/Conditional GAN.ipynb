{
 "cells": [
  {
   "cell_type": "code",
   "execution_count": 1,
   "id": "7217d30b",
   "metadata": {},
   "outputs": [],
   "source": [
    "import tensorflow as tf\n",
    "import numpy as np\n",
    "import cv2\n",
    "import os\n",
    "from tensorflow.keras.layers import Dense, Activation, Flatten, Conv3D, Conv2D, Conv1D, Dropout, MaxPooling2D, LeakyReLU, BatchNormalization, Reshape, InputLayer, Input, ZeroPadding3D, ZeroPadding2D, UpSampling2D, UpSampling3D, MaxPool3D, MaxPooling3D, LSTM\n",
    "from tensorflow.keras.layers import MaxPooling3D, TimeDistributed, Embedding\n",
    "from tensorflow.keras.layers import Concatenate, Conv2DTranspose\n",
    "from tensorflow.keras.models import Sequential, load_model, Model, save_model\n",
    "from tensorflow.keras.optimizers import Adam\n",
    "import matplotlib.pyplot as plt\n",
    "from sklearn import preprocessing"
   ]
  },
  {
   "cell_type": "code",
   "execution_count": 18,
   "id": "3af0e9f5",
   "metadata": {},
   "outputs": [],
   "source": [
    "def build_discriminator(load_mode=False):\n",
    "    \n",
    "    if load_model == True:\n",
    "        model_dir = 'C:/Users/Steph/#Binus/#Bangkit/#Project/Dataset/bisindo/saved_model/disc_cond'\n",
    "        model = tf.saved_model.load(\n",
    "            model_dir\n",
    "        )\n",
    "        return model\n",
    "    \n",
    "    \n",
    "    img_shape = (125, 125, 1)\n",
    "    n_classes = 26    # 26 alphabet\n",
    "    \n",
    "    in_label = Input(shape=(1,))\n",
    "    li = Embedding(n_classes, 50)(in_label)\n",
    "    li = Dense(np.prod(img_shape))(li)\n",
    "    li = Reshape(img_shape)(li)\n",
    "    \n",
    "    \n",
    "    in_image = Input(shape=img_shape)\n",
    "    \n",
    "    merge = Concatenate()([in_image, li])\n",
    "    fe = Conv2D(128, kernel_size=5, strides=2, padding=\"same\")(merge)\n",
    "    fe = LeakyReLU(alpha=0.2)(fe)\n",
    "    fe = Dropout(0.4)(fe)\n",
    "    fe = Conv2D(256, kernel_size=3, strides=2, padding=\"same\")(fe)\n",
    "    fe = LeakyReLU(alpha=0.2)(fe)\n",
    "    fe = Dropout(0.4)(fe)\n",
    "    fe = Flatten()(fe)\n",
    "    fe = Dense(64, activation='relu')(fe)\n",
    "    fe = Dense(86, activation='relu')(fe)\n",
    "    fe = Dense(128, activation='relu')(fe)\n",
    "    out_layer = Dense(1, activation='sigmoid')(fe)\n",
    "    \n",
    "    discriminator = Model([in_image, in_label], out_layer, name='Discriminator_Conditional')\n",
    "    opt = Adam(lr=0.0002, beta_1=0.5)\n",
    "    discriminator.compile(loss='binary_crossentropy', optimizer=opt, metrics=['accuracy'])\n",
    "    return discriminator"
   ]
  },
  {
   "cell_type": "code",
   "execution_count": 17,
   "id": "eb9f70e5",
   "metadata": {},
   "outputs": [],
   "source": [
    "def build_generator(load_model=False):\n",
    "    \n",
    "    if load_model == True:\n",
    "        model_dir = 'C:/Users/Steph/#Binus/#Bangkit/#Project/Dataset/bisindo/saved_model/generator_cond_11052021152246/'\n",
    "        model = tf.saved_model.load(\n",
    "            model_dir\n",
    "        )\n",
    "        return model\n",
    "    \n",
    "    noise_dim = 100\n",
    "    n_classes = 26    # 26 alphabet\n",
    "    \n",
    "    in_label = Input(shape=(1,))\n",
    "    li = Embedding(n_classes, 50)(in_label)\n",
    "    li = Dense(7*7*1, activation='relu', name='Dense_1')(li)\n",
    "    li = Reshape((7, 7, 1))(li)\n",
    "    in_lat = Input(shape=(noise_dim,))\n",
    "    gen = Dense(128 * 7 * 7, activation='relu')(in_lat)\n",
    "    gen = LeakyReLU(alpha=0.2)(gen)\n",
    "    gen = Reshape((7, 7, 128))(gen)\n",
    "    merge = Concatenate()([gen, li])\n",
    "    gen = Conv2DTranspose(128, (5,5), strides=(2,2), padding='same')(merge)\n",
    "    gen = LeakyReLU(alpha=0.2)(gen)\n",
    "    gen = BatchNormalization(momentum=0.8)(gen)\n",
    "    gen = Conv2DTranspose(128, (4,4), strides=(2,2), padding='same')(gen)\n",
    "    gen = LeakyReLU(alpha=0.2)(gen)\n",
    "#     gen = BatchNormalization(momentum=0.8)\n",
    "    gen = Flatten()(gen)\n",
    "    gen = Dropout(0.4)(gen)\n",
    "    gen = Dense(256, activation='relu', name='Dense_2')(gen)\n",
    "    gen = Dense(128, activation='relu', name='Dense_3')(gen)\n",
    "    gen = Dense(128, activation='relu', name='Dense_4')(gen)\n",
    "    gen = Dense(256, activation='relu', name='Dense_5')(gen)\n",
    "    gen = Dense(300, activation='relu', name='Dense_6')(gen)\n",
    "    gen = Dense(400, activation='relu', name='Dense_7')(gen)\n",
    "    gen = Dense(np.prod((125, 125)), activation='tanh', name='Dense_Output')(gen)\n",
    "    gen = Reshape((125, 125, 1))(gen)\n",
    "    out_layer = Conv2D(1, (7,7), activation='tanh', padding='same')(gen)\n",
    "    \n",
    "    model = Model([in_lat, in_label], out_layer)\n",
    "    return model\n",
    "    "
   ]
  },
  {
   "cell_type": "code",
   "execution_count": 8,
   "id": "67a045b0",
   "metadata": {},
   "outputs": [],
   "source": [
    "# define the combined generator and discriminator model, for updating the generator\n",
    "def build_gan(g_model, d_model):\n",
    "    # make weights in the discriminator not trainable\n",
    "    d_model.trainable = False\n",
    "    # get noise and label inputs from generator model\n",
    "    gen_noise, gen_label = g_model.input\n",
    "    # get image output from the generator model\n",
    "    gen_output = g_model.output\n",
    "    # connect image output and label input from generator as inputs to discriminator\n",
    "    gan_output = d_model([gen_output, gen_label])\n",
    "    # define gan model as taking noise and label and outputting a classification\n",
    "    model = Model([gen_noise, gen_label], gan_output)\n",
    "    # compile model\n",
    "    opt = Adam(lr=0.0002, beta_1=0.5)\n",
    "    model.compile(loss='binary_crossentropy', optimizer=opt)\n",
    "    return model"
   ]
  },
  {
   "cell_type": "code",
   "execution_count": 9,
   "id": "aa80c0df",
   "metadata": {},
   "outputs": [],
   "source": [
    "# load fashion mnist images\n",
    "def load_real_samples():\n",
    "    data = np.load('data_resized.npy')  # video\n",
    "    videoFrameCount = np.load('data_videoFrameCount.npy')\n",
    "    \n",
    "    images = np.array([])\n",
    "    count = 0\n",
    "\n",
    "    for image in data:\n",
    "        count += 1\n",
    "        if count == 1:\n",
    "            images = [image[int(videoFrameCount[3]/2)]]\n",
    "        else:\n",
    "            images = np.append(images, [image[int(videoFrameCount[3]/2)]], axis=0)\n",
    "    \n",
    "    \n",
    "    labels = np.array([])\n",
    "    count = 0\n",
    "\n",
    "    for dir in os.listdir('./bisindo - video dataset/Train'):\n",
    "        for video in os.listdir('./bisindo - video dataset/Train/' + dir):\n",
    "            count += 1\n",
    "            if count == 1:\n",
    "                labels = [[dir]]\n",
    "            else:\n",
    "                labels = np.append(labels, [[dir]], axis=0)\n",
    "                \n",
    "    images = images.astype('float32')\n",
    "    images = (images - 0.5) / 0.5\n",
    "    le = preprocessing.LabelEncoder()\n",
    "    labels = le.fit_transform(labels)\n",
    "    \n",
    "    return [images, labels]"
   ]
  },
  {
   "cell_type": "code",
   "execution_count": 10,
   "id": "f2a74f88",
   "metadata": {},
   "outputs": [],
   "source": [
    "def generate_real_samples(dataset, n_samples):\n",
    "    # split into images and labels\n",
    "    images, labels = dataset\n",
    "    # choose random instances\n",
    "    ix = np.random.randint(0, images.shape[0], n_samples)\n",
    "    # select images and labels\n",
    "    X, labels = images[ix], labels[ix]\n",
    "    # generate class labels\n",
    "    y = np.ones((n_samples, 1))\n",
    "    return [X, labels], y"
   ]
  },
  {
   "cell_type": "code",
   "execution_count": 11,
   "id": "b7f6f3e2",
   "metadata": {},
   "outputs": [],
   "source": [
    "def generate_noise(noise_dim, n_samples, n_classes=26):\n",
    "    x_input = np.random.randn(noise_dim * n_samples)\n",
    "    z_input = x_input.reshape(n_samples, noise_dim)\n",
    "    # generate labels\n",
    "    labels = np.random.randint(0, n_classes, n_samples)\n",
    "    return [z_input, labels]"
   ]
  },
  {
   "cell_type": "code",
   "execution_count": 12,
   "id": "91c5d372",
   "metadata": {},
   "outputs": [],
   "source": [
    "def generate_fake_samples(generator, noise_dim, n_samples):\n",
    "    z_input, labels_input = generate_noise(noise_dim, n_samples)\n",
    "    # predict outputs\n",
    "    images = generator.predict([z_input, labels_input])\n",
    "    # create class labels\n",
    "    y = np.zeros((n_samples, 1))\n",
    "    return [images, labels_input], y"
   ]
  },
  {
   "cell_type": "code",
   "execution_count": 122,
   "id": "2ee576fe",
   "metadata": {},
   "outputs": [],
   "source": [
    "def train(g_model, d_model, gan_model, dataset, noise_dim, n_epochs=100, n_batch=13):\n",
    "    bat_per_epo = int(dataset[0].shape[0] / n_batch)\n",
    "    half_batch = int(n_batch / 2)\n",
    "    # manually enumerate epochs\n",
    "    for i in range(n_epochs):\n",
    "        # enumerate batches over the training set\n",
    "        for j in range(bat_per_epo):\n",
    "#             print('1')\n",
    "            # get randomly selected 'real' samples\n",
    "            [X_real, labels_real], y_real = generate_real_samples(dataset, half_batch)\n",
    "#             print('2')\n",
    "            # update discriminator model weights\n",
    "            d_loss1, _ = d_model.train_on_batch([X_real, labels_real], y_real)\n",
    "#             print('3')\n",
    "            # generate 'fake' examples\n",
    "            [X_fake, labels], y_fake = generate_fake_samples(g_model, noise_dim, half_batch)\n",
    "#             print('4')\n",
    "            # update discriminator model weights\n",
    "            d_loss2, _ = d_model.train_on_batch([X_fake, labels], y_fake)\n",
    "#             print('5')\n",
    "            # prepare points in latent space as input for the generator\n",
    "            [z_input, labels_input] = generate_noise(noise_dim, n_batch)\n",
    "#             print('6')\n",
    "            # create inverted labels for the fake samples\n",
    "            y_gan = np.ones((n_batch, 1))\n",
    "#             print('7')\n",
    "            # update the generator via the discriminator's error\n",
    "            g_loss = gan_model.train_on_batch([z_input, labels_input], y_gan)\n",
    "#             print('8')\n",
    "            # summarize loss on this batch\n",
    "        if i%(n_epochs//10) == 0:\n",
    "            print('>%d, d1=%.3f, d2=%.3f g=%.3f' %(i+1, d_loss1, d_loss2, g_loss))\n",
    "                \n",
    "    # save the generator model\n",
    "#     g_model.save('cgan_generator.h5')"
   ]
  },
  {
   "cell_type": "code",
   "execution_count": 26,
   "id": "5319f8bb",
   "metadata": {},
   "outputs": [
    {
     "name": "stderr",
     "output_type": "stream",
     "text": [
      "C:\\Users\\Steph\\AppData\\Roaming\\Python\\Python37\\site-packages\\sklearn\\preprocessing\\label.py:235: DataConversionWarning: A column-vector y was passed when a 1d array was expected. Please change the shape of y to (n_samples, ), for example using ravel().\n",
      "  y = column_or_1d(y, warn=True)\n"
     ]
    }
   ],
   "source": [
    "# create the discriminator\n",
    "d_model = build_discriminator()\n",
    "# create the generator\n",
    "g_model = build_generator()\n",
    "# create the gan\n",
    "gan_model = build_gan(g_model, d_model)\n",
    "# load image data\n",
    "dataset = load_real_samples()"
   ]
  },
  {
   "cell_type": "code",
   "execution_count": 28,
   "id": "29250597",
   "metadata": {},
   "outputs": [
    {
     "name": "stdout",
     "output_type": "stream",
     "text": [
      "Model: \"model_1\"\n",
      "__________________________________________________________________________________________________\n",
      "Layer (type)                    Output Shape         Param #     Connected to                     \n",
      "==================================================================================================\n",
      "input_10 (InputLayer)           [(None, 100)]        0                                            \n",
      "__________________________________________________________________________________________________\n",
      "input_9 (InputLayer)            [(None, 1)]          0                                            \n",
      "__________________________________________________________________________________________________\n",
      "dense_20 (Dense)                (None, 6272)         633472      input_10[0][0]                   \n",
      "__________________________________________________________________________________________________\n",
      "embedding_4 (Embedding)         (None, 1, 50)        1300        input_9[0][0]                    \n",
      "__________________________________________________________________________________________________\n",
      "leaky_re_lu_8 (LeakyReLU)       (None, 6272)         0           dense_20[0][0]                   \n",
      "__________________________________________________________________________________________________\n",
      "Dense_1 (Dense)                 (None, 1, 49)        2499        embedding_4[0][0]                \n",
      "__________________________________________________________________________________________________\n",
      "reshape_5 (Reshape)             (None, 7, 7, 128)    0           leaky_re_lu_8[0][0]              \n",
      "__________________________________________________________________________________________________\n",
      "reshape_4 (Reshape)             (None, 7, 7, 1)      0           Dense_1[0][0]                    \n",
      "__________________________________________________________________________________________________\n",
      "concatenate_4 (Concatenate)     (None, 7, 7, 129)    0           reshape_5[0][0]                  \n",
      "                                                                 reshape_4[0][0]                  \n",
      "__________________________________________________________________________________________________\n",
      "conv2d_transpose (Conv2DTranspo (None, 14, 14, 128)  412928      concatenate_4[0][0]              \n",
      "__________________________________________________________________________________________________\n",
      "leaky_re_lu_9 (LeakyReLU)       (None, 14, 14, 128)  0           conv2d_transpose[0][0]           \n",
      "__________________________________________________________________________________________________\n",
      "batch_normalization (BatchNorma (None, 14, 14, 128)  512         leaky_re_lu_9[0][0]              \n",
      "__________________________________________________________________________________________________\n",
      "conv2d_transpose_1 (Conv2DTrans (None, 28, 28, 128)  262272      batch_normalization[0][0]        \n",
      "__________________________________________________________________________________________________\n",
      "leaky_re_lu_10 (LeakyReLU)      (None, 28, 28, 128)  0           conv2d_transpose_1[0][0]         \n",
      "__________________________________________________________________________________________________\n",
      "flatten_4 (Flatten)             (None, 100352)       0           leaky_re_lu_10[0][0]             \n",
      "__________________________________________________________________________________________________\n",
      "dropout_8 (Dropout)             (None, 100352)       0           flatten_4[0][0]                  \n",
      "__________________________________________________________________________________________________\n",
      "Dense_2 (Dense)                 (None, 256)          25690368    dropout_8[0][0]                  \n",
      "__________________________________________________________________________________________________\n",
      "Dense_3 (Dense)                 (None, 128)          32896       Dense_2[0][0]                    \n",
      "__________________________________________________________________________________________________\n",
      "Dense_4 (Dense)                 (None, 128)          16512       Dense_3[0][0]                    \n",
      "__________________________________________________________________________________________________\n",
      "Dense_5 (Dense)                 (None, 256)          33024       Dense_4[0][0]                    \n",
      "__________________________________________________________________________________________________\n",
      "Dense_6 (Dense)                 (None, 300)          77100       Dense_5[0][0]                    \n",
      "__________________________________________________________________________________________________\n",
      "Dense_7 (Dense)                 (None, 400)          120400      Dense_6[0][0]                    \n",
      "__________________________________________________________________________________________________\n",
      "Dense_Output (Dense)            (None, 15625)        6265625     Dense_7[0][0]                    \n",
      "__________________________________________________________________________________________________\n",
      "reshape_6 (Reshape)             (None, 125, 125, 1)  0           Dense_Output[0][0]               \n",
      "__________________________________________________________________________________________________\n",
      "conv2d_8 (Conv2D)               (None, 125, 125, 1)  50          reshape_6[0][0]                  \n",
      "__________________________________________________________________________________________________\n",
      "Discriminator_Conditional (Mode (None, 1)            17894006    conv2d_8[0][0]                   \n",
      "                                                                 input_9[0][0]                    \n",
      "==================================================================================================\n",
      "Total params: 51,442,964\n",
      "Trainable params: 33,548,702\n",
      "Non-trainable params: 17,894,262\n",
      "__________________________________________________________________________________________________\n"
     ]
    }
   ],
   "source": [
    "gan_model.summary()"
   ]
  },
  {
   "cell_type": "code",
   "execution_count": 150,
   "id": "98fecd91",
   "metadata": {},
   "outputs": [
    {
     "name": "stdout",
     "output_type": "stream",
     "text": [
      ">1, d1=0.132, d2=0.200 g=5.743\n",
      ">101, d1=0.000, d2=0.123 g=6.665\n",
      ">201, d1=0.444, d2=0.296 g=3.039\n",
      ">301, d1=0.177, d2=0.316 g=2.613\n",
      ">401, d1=0.607, d2=0.067 g=2.865\n",
      ">501, d1=0.489, d2=0.274 g=3.580\n",
      ">601, d1=0.660, d2=0.137 g=4.801\n",
      ">701, d1=0.206, d2=0.035 g=3.705\n",
      ">801, d1=0.103, d2=0.281 g=5.967\n",
      ">901, d1=0.008, d2=0.008 g=6.491\n"
     ]
    }
   ],
   "source": [
    "noise_dim = 100\n",
    "train(g_model, d_model, gan_model, dataset, noise_dim, n_epochs=1000)"
   ]
  },
  {
   "cell_type": "code",
   "execution_count": 47,
   "id": "da14607d",
   "metadata": {},
   "outputs": [],
   "source": [
    "# save the model\n",
    "g_model.save('./saved_model/cgan_generator.h5')\n",
    "d_model.save('./saved_model/cgan_discriminator.h5')\n",
    "gan_model.save('./saved_model/cgan_gan.h5')"
   ]
  },
  {
   "cell_type": "code",
   "execution_count": 2,
   "id": "baf81478",
   "metadata": {},
   "outputs": [
    {
     "name": "stdout",
     "output_type": "stream",
     "text": [
      "WARNING:tensorflow:No training configuration found in the save file, so the model was *not* compiled. Compile it manually.\n",
      "WARNING:tensorflow:Error in loading the saved optimizer state. As a result, your model is starting with a freshly initialized optimizer.\n"
     ]
    }
   ],
   "source": [
    "g_model = load_model('./saved_model/cgan_generator.h5')\n",
    "d_model = load_model('./saved_model/cgan_discriminator.h5')"
   ]
  },
  {
   "cell_type": "code",
   "execution_count": 115,
   "id": "10b4b13b",
   "metadata": {},
   "outputs": [],
   "source": [
    "gan_model1 = build_gan(g_model1, d_model1)"
   ]
  },
  {
   "cell_type": "code",
   "execution_count": 125,
   "id": "57fa529a",
   "metadata": {},
   "outputs": [
    {
     "name": "stdout",
     "output_type": "stream",
     "text": [
      ">1, d1=0.375, d2=5.285 g=0.551\n",
      ">101, d1=0.450, d2=7.942 g=0.447\n",
      ">201, d1=0.266, d2=6.093 g=0.054\n",
      ">301, d1=0.150, d2=7.112 g=0.185\n",
      ">401, d1=0.045, d2=11.396 g=0.001\n",
      ">501, d1=0.159, d2=9.026 g=0.002\n",
      ">601, d1=0.317, d2=11.922 g=0.003\n",
      ">701, d1=0.000, d2=10.743 g=0.000\n",
      ">801, d1=0.178, d2=10.385 g=0.000\n",
      ">901, d1=0.425, d2=11.569 g=0.000\n"
     ]
    }
   ],
   "source": [
    "noise_dim = 100\n",
    "train(g_model1, d_model1, gan_model1, dataset, noise_dim, n_epochs=1000)"
   ]
  },
  {
   "cell_type": "code",
   "execution_count": 29,
   "id": "d44d311a",
   "metadata": {},
   "outputs": [
    {
     "name": "stdout",
     "output_type": "stream",
     "text": [
      "WARNING:tensorflow:From C:\\Users\\Steph\\Anaconda3\\envs\\coursera\\lib\\site-packages\\tensorflow\\python\\ops\\resource_variable_ops.py:1817: calling BaseResourceVariable.__init__ (from tensorflow.python.ops.resource_variable_ops) with constraint is deprecated and will be removed in a future version.\n",
      "Instructions for updating:\n",
      "If using Keras pass *_constraint arguments to layers.\n",
      "INFO:tensorflow:Assets written to: saved_model/generator_cond_11052021152246\\assets\n"
     ]
    }
   ],
   "source": [
    "from datetime import datetime\n",
    "now = datetime.now()\n",
    "\n",
    "g_model.save('saved_model/generator_cond_' + now.strftime(\"%d%m%Y%H%M%S\"))"
   ]
  },
  {
   "cell_type": "code",
   "execution_count": 3,
   "id": "053d5d88",
   "metadata": {},
   "outputs": [],
   "source": [
    "from numpy import asarray\n",
    "from numpy.random import randn\n",
    "from numpy.random import randint\n",
    "from tensorflow.keras.models import load_model\n",
    "from matplotlib import pyplot\n",
    "\n",
    "# generate points in latent space as input for the generator\n",
    "def generate_latent_points(latent_dim, n_samples, n_classes=26):\n",
    "    # generate points in the latent space\n",
    "    x_input = randn(latent_dim * n_samples)\n",
    "    # reshape into a batch of inputs for the network\n",
    "    z_input = x_input.reshape(n_samples, latent_dim)\n",
    "    # generate labels\n",
    "    labels = randint(0, n_classes, n_samples)\n",
    "    return [z_input, labels]"
   ]
  },
  {
   "cell_type": "code",
   "execution_count": 30,
   "id": "bc53534f",
   "metadata": {},
   "outputs": [],
   "source": [
    "latent_points, labels = generate_latent_points(100, 2)"
   ]
  },
  {
   "cell_type": "code",
   "execution_count": 32,
   "id": "bf751a87",
   "metadata": {},
   "outputs": [
    {
     "data": {
      "text/plain": [
       "array([13, 19])"
      ]
     },
     "execution_count": 32,
     "metadata": {},
     "output_type": "execute_result"
    }
   ],
   "source": [
    "labels"
   ]
  },
  {
   "cell_type": "code",
   "execution_count": 33,
   "id": "8b9ece58",
   "metadata": {},
   "outputs": [
    {
     "data": {
      "text/plain": [
       "(2, 100)"
      ]
     },
     "execution_count": 33,
     "metadata": {},
     "output_type": "execute_result"
    }
   ],
   "source": [
    "latent_points.shape"
   ]
  },
  {
   "cell_type": "code",
   "execution_count": 34,
   "id": "6d28a9b0",
   "metadata": {},
   "outputs": [
    {
     "data": {
      "text/plain": [
       "<matplotlib.image.AxesImage at 0x138a84e8e08>"
      ]
     },
     "execution_count": 34,
     "metadata": {},
     "output_type": "execute_result"
    },
    {
     "data": {
      "image/png": "[encoded data removed]",
      "text/plain": [
       "<Figure size 432x288 with 1 Axes>"
      ]
     },
     "metadata": {
      "needs_background": "light"
     },
     "output_type": "display_data"
    }
   ],
   "source": [
    "gen_img = g_model.predict([latent_points, labels])\n",
    "plt.imshow(gen_img[0], cmap='gray')"
   ]
  },
  {
   "cell_type": "code",
   "execution_count": 36,
   "id": "ea7413bc",
   "metadata": {},
   "outputs": [
    {
     "data": {
      "text/plain": [
       "<matplotlib.image.AxesImage at 0x138aa24d5c8>"
      ]
     },
     "execution_count": 36,
     "metadata": {},
     "output_type": "execute_result"
    },
    {
     "data": {
      "image/png": "[encoded data removed]",
      "text/plain": [
       "<Figure size 432x288 with 1 Axes>"
      ]
     },
     "metadata": {
      "needs_background": "light"
     },
     "output_type": "display_data"
    }
   ],
   "source": [
    "size = 200 # percent of original size\n",
    "width = int(64)\n",
    "height = int(64)\n",
    "dim = (width, height)\n",
    "  \n",
    "# resize image\n",
    "resized = cv2.resize(gen_img[0], dim, interpolation = cv2.INTER_AREA)\n",
    "resized2 = cv2.resize(gen_img[1], dim, interpolation = cv2.INTER_AREA)\n",
    "plt.imshow(resized, cmap='gray')"
   ]
  },
  {
   "cell_type": "code",
   "execution_count": 37,
   "id": "1f92111f",
   "metadata": {},
   "outputs": [
    {
     "data": {
      "text/plain": [
       "(64, 64, 3)"
      ]
     },
     "execution_count": 37,
     "metadata": {},
     "output_type": "execute_result"
    }
   ],
   "source": [
    "colorized = cv2.cvtColor(resized, cv2.COLOR_GRAY2RGB)\n",
    "colorized2 = cv2.cvtColor(resized2, cv2.COLOR_GRAY2RGB)\n",
    "norm_image = cv2.normalize(colorized, None, alpha = 0, beta = 255, norm_type = cv2.NORM_MINMAX, dtype = cv2.CV_32F)\n",
    "norm_image = norm_image.astype(np.uint8)\n",
    "\n",
    "norm_image2 = cv2.normalize(colorized2, None, alpha = 0, beta = 255, norm_type = cv2.NORM_MINMAX, dtype = cv2.CV_32F)\n",
    "norm_image2 = norm_image2.astype(np.uint8)\n",
    "\n",
    "norm_image.shape"
   ]
  },
  {
   "cell_type": "code",
   "execution_count": 41,
   "id": "e32aeffb",
   "metadata": {},
   "outputs": [
    {
     "data": {
      "text/plain": [
       "(1, 64, 64, 3)"
      ]
     },
     "execution_count": 41,
     "metadata": {},
     "output_type": "execute_result"
    }
   ],
   "source": [
    "frame = np.expand_dims(norm_image, axis=0)\n",
    "frame2 = np.expand_dims(norm_image2, axis=0)\n",
    "frames = np.vstack((frame, frame, frame2))\n",
    "frame.shape"
   ]
  },
  {
   "cell_type": "code",
   "execution_count": 46,
   "id": "29f7d407",
   "metadata": {},
   "outputs": [],
   "source": [
    "import tensorflow_hub as hub"
   ]
  },
  {
   "cell_type": "code",
   "execution_count": null,
   "id": "af901ccb",
   "metadata": {},
   "outputs": [],
   "source": [
    "# Initialization and graph building can be a bit time-consuming.\n",
    "path = './videoflow_generator_1'\n",
    "\n",
    "module = hub.load(path, tags=[])\n",
    "features = {\n",
    "    'inputs': tf.placeholder(dtype=tf.uint8, shape=(None, 3, 64, 64, 3)),\n",
    "    'temperature': tf.placeholder_with_default(tf.constant(1.0), shape=[])}\n",
    "output = module(features, signature='sample')"
   ]
  },
  {
   "cell_type": "code",
   "execution_count": null,
   "id": "67017f68",
   "metadata": {},
   "outputs": [],
   "source": []
  }
 ],
 "metadata": {
  "kernelspec": {
   "display_name": "coursera",
   "language": "python",
   "name": "coursera"
  },
  "language_info": {
   "codemirror_mode": {
    "name": "ipython",
    "version": 3
   },
   "file_extension": ".py",
   "mimetype": "text/x-python",
   "name": "python",
   "nbconvert_exporter": "python",
   "pygments_lexer": "ipython3",
   "version": "3.7.10"
  }
 },
 "nbformat": 4,
 "nbformat_minor": 5
}
