{
 "cells": [
  {
   "cell_type": "code",
   "execution_count": 1,
   "metadata": {
    "id": "-Dz3qCIyLLPl"
   },
   "outputs": [],
   "source": [
    "import csv\n",
    "import os\n",
    "import pandas as pd\n",
    "from shutil import copyfile"
   ]
  },
  {
   "cell_type": "code",
   "execution_count": 36,
   "metadata": {
    "id": "CM84omEVRWxb"
   },
   "outputs": [],
   "source": [
    "def filter_csv_data(path, categories):\n",
    "    df = pd.read_csv(path)\n",
    "    filtered_data = df.loc[df['category'].isin(categories)].reset_index(drop=True)\n",
    "    filtered_data.to_csv('D:/Filtered CSV.csv', index=False)\n",
    "    \n",
    "    return filtered_data"
   ]
  },
  {
   "cell_type": "code",
   "execution_count": 32,
   "metadata": {
    "id": "RfHNG3XDU7fi"
   },
   "outputs": [],
   "source": [
    "def filter_data(path, categories):\n",
    "    dir = os.listdir(path)\n",
    "    #filtered_dir = os.mkdir(path+'filtered/')\n",
    "\n",
    "    for file in dir:\n",
    "        if file in filtered_csv['filename'].tolist():\n",
    "            source = path + file\n",
    "            destination = path + 'filtered/' + file\n",
    "            dest = copyfile(source, destination)"
   ]
  },
  {
   "cell_type": "code",
   "execution_count": 5,
   "metadata": {
    "id": "XFKc55-PCXzF"
   },
   "outputs": [],
   "source": [
    "csv_path = 'D:/Universitas Brawijaya/Statistika/Semester 6/Bangkit/Capstone Project/ESC-50-master/meta/esc50.csv'\n",
    "audio_path = 'D:/Universitas Brawijaya/Statistika/Semester 6/Bangkit/Capstone Project/ESC-50-master/audio/'\n",
    "categories = ['thunderstorm','airplane','train','wind','car_horn','helicopter','rain','engine']"
   ]
  },
  {
   "cell_type": "code",
   "execution_count": 37,
   "metadata": {
    "id": "yX4W_MfwO7B_"
   },
   "outputs": [
    {
     "name": "stdout",
     "output_type": "stream",
     "text": [
      "              filename  fold  target      category  esc10  src_file take\n",
      "0    1-101296-A-19.wav     1      19  thunderstorm  False    101296    A\n",
      "1    1-101296-B-19.wav     1      19  thunderstorm  False    101296    B\n",
      "2    1-115521-A-19.wav     1      19  thunderstorm  False    115521    A\n",
      "3     1-11687-A-47.wav     1      47      airplane  False     11687    A\n",
      "4    1-119125-A-45.wav     1      45         train  False    119125    A\n",
      "..                 ...   ...     ...           ...    ...       ...  ...\n",
      "315  5-243783-A-44.wav     5      44        engine  False    243783    A\n",
      "316  5-251957-A-47.wav     5      47      airplane  False    251957    A\n",
      "317  5-251962-A-47.wav     5      47      airplane  False    251962    A\n",
      "318  5-251963-A-47.wav     5      47      airplane  False    251963    A\n",
      "319  5-251971-A-47.wav     5      47      airplane  False    251971    A\n",
      "\n",
      "[320 rows x 7 columns]\n"
     ]
    }
   ],
   "source": [
    "filtered_csv = filter_csv_data(csv_path,categories)\n",
    "print(filtered_csv)"
   ]
  },
  {
   "cell_type": "code",
   "execution_count": 33,
   "metadata": {
    "colab": {
     "base_uri": "https://localhost:8080/",
     "height": 299
    },
    "id": "7zvvBWQOXPDd",
    "outputId": "9aedc874-59a8-40be-d75c-80fc0dc8bcb0",
    "scrolled": true
   },
   "outputs": [],
   "source": [
    "filter_data(audio_path, categories)"
   ]
  }
 ],
 "metadata": {
  "colab": {
   "collapsed_sections": [],
   "name": "Untitled0.ipynb",
   "provenance": []
  },
  "kernelspec": {
   "display_name": "Python 3",
   "language": "python",
   "name": "python3"
  },
  "language_info": {
   "codemirror_mode": {
    "name": "ipython",
    "version": 3
   },
   "file_extension": ".py",
   "mimetype": "text/x-python",
   "name": "python",
   "nbconvert_exporter": "python",
   "pygments_lexer": "ipython3",
   "version": "3.7.6"
  }
 },
 "nbformat": 4,
 "nbformat_minor": 1
}
